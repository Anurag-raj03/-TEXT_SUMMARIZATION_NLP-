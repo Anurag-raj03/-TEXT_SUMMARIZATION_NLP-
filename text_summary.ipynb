{
 "cells": [
  {
   "cell_type": "markdown",
   "metadata": {},
   "source": [
    "# 📚✨ Text Summarization Project ✨📚\n",
    "\n",
    "## 🚀🔍 Introduction\n",
    "\n",
    "Welcome to the Text Summarization project! In this project, we will use Natural Language Processing (NLP) techniques to create a text summarization tool. The aim is to condense long articles or documents into shorter summaries while retaining the essential information. 📄💡\n",
    "\n",
    "## 🛠️🔧 Libraries and Tools\n",
    "\n",
    "In this project, we will utilize several libraries and tools to achieve our goal. Here’s a brief overview of each:\n",
    "\n",
    "### 🐍📝 NLTK (Natural Language Toolkit)\n",
    "\n",
    "**NLTK** is a leading platform for building Python programs to work with human language data. It provides easy-to-use interfaces to over 50 corpora and lexical resources. In our project, we will use NLTK for tokenizing and processing the text. 📑🔠\n",
    "\n",
    "### 🅰️🔡 String\n",
    "\n",
    "The **string** library in Python contains a collection of string operations and constants. We will use it to handle text data efficiently. 🧵🔤\n",
    "\n",
    "### 🚫🔠 Stopwords\n",
    "\n",
    "**Stopwords** are common words (like \"the\", \"is\", \"in\") that are usually ignored in text processing. NLTK provides a list of stopwords for various languages. We will use these stopwords to filter out non-essential words from our text. ❌📝\n",
    "\n",
    "### ✂️🔠 Tokenization\n",
    "\n",
    "Tokenization is the process of splitting text into individual words or sentences. We will use NLTK's `word_tokenize` and `sent_tokenize` methods to tokenize our text data. 🔍🔠\n",
    "\n",
    "### 📈🔝 Heapq (nlargest)\n",
    "\n",
    "The **heapq** library provides an implementation of the heap queue algorithm. We will use the `nlargest` method to extract the most important sentences from our text based on their scores. 📊🏅\n",
    "\n",
    "## 📋💡 Project Workflow\n",
    "\n",
    "Here's an overview of the workflow for our Text Summarization project:\n",
    "\n",
    "1. **Text Preprocessing** 🛠️🔍\n",
    "   - Load the text data.\n",
    "   - Convert text to lowercase and remove punctuation.\n",
    "   - Tokenize the text into sentences and words.\n",
    "\n",
    "2. **Stopwords Removal** ❌🔤\n",
    "   - Filter out stopwords from the tokenized words.\n",
    "\n",
    "3. **Word Frequency Calculation** 📊🔡\n",
    "   - Calculate the frequency of each word in the text.\n",
    "\n",
    "4. **Sentence Scoring** 🏅🔍\n",
    "   - Score each sentence based on the frequency of words it contains.\n",
    "\n",
    "5. **Summary Generation** 📄✨\n",
    "   - Select the top N sentences with the highest scores to generate the summary.\n",
    "\n",
    "## 🔍🛠️ Implementation Details\n",
    "\n",
    "Let's dive into the details of each step:\n",
    "\n",
    "### 1. Text Preprocessing 🛠️🔍\n",
    "\n",
    "In this step, we will load our text data, convert it to lowercase, and remove any punctuation. We will then tokenize the text into sentences and words.\n",
    "\n",
    "### 2. Stopwords Removal ❌🔤\n",
    "\n",
    "We will remove common stopwords from the tokenized words to focus on the more meaningful words in the text.\n",
    "\n",
    "### 3. Word Frequency Calculation 📊🔡\n",
    "\n",
    "Next, we will calculate the frequency of each word in the text. Words that appear more frequently will be considered more important.\n",
    "\n",
    "### 4. Sentence Scoring 🏅🔍\n",
    "\n",
    "Each sentence in the text will be scored based on the frequency of the words it contains. Sentences with higher scores are considered more important.\n",
    "\n",
    "### 5. Summary Generation 📄✨\n",
    "\n",
    "Finally, we will select the top N sentences with the highest scores to generate the summary of the text.\n",
    "\n",
    "## 📈🔍 Conclusion\n",
    "\n",
    "By the end of this project, you will have a working text summarization tool that can condense lengthy articles into concise summaries. This project demonstrates the power of NLP techniques in extracting meaningful information from large texts. 📚💼\n",
    "\n",
    "## 🚀💻 Let's Get Started!\n",
    "\n",
    "Open a new Jupyter notebook and follow along with the implementation steps to build your own text summarization tool. Happy coding! 🎉👩‍💻👨‍💻\n"
   ]
  },
  {
   "cell_type": "code",
   "execution_count": 85,
   "metadata": {},
   "outputs": [],
   "source": [
    "import nltk\n",
    "import string\n",
    "from nltk.corpus import stopwords\n",
    "from nltk.tokenize import word_tokenize, sent_tokenize\n",
    "from heapq import nlargest"
   ]
  },
  {
   "cell_type": "code",
   "execution_count": 86,
   "metadata": {},
   "outputs": [],
   "source": [
    "text = \"\"\"Once upon a time, in a land far, far away, there was a small, quaint village nestled between rolling hills and lush, green valleys. This village, known to its inhabitants as Elmswood, was home to a curious assortment of characters. Among them were a kindly old baker named Mr. Thornton, who had been baking bread for the villagers for as long as anyone could remember, and Mrs. Patterson, the schoolteacher, whose stern demeanor hid a heart of gold. The village also had its fair share of children, who could often be seen playing games in the fields, their laughter echoing through the air like the sweetest of melodies. In the center of Elmswood, there was a magnificent old oak tree, which the villagers believed to be enchanted. It was said that the tree had stood there for centuries, silently watching over the village and its people. Every spring, the tree would burst into a brilliant display of blossoms, filling the air with a sweet, heady fragrance that could be smelled for miles around. Under the shade of this grand tree, villagers would gather for festivals, picnics, and, on occasion, to resolve disputes, which were often settled with the help of the village elder, Old Man Harper, whose wisdom was revered by all.\n",
    "\n",
    "One fine day, as the sun rose over the horizon, casting a golden glow over the village, a traveler arrived. This traveler, whose name was Samuel, had journeyed from a distant city, seeking peace and quiet. He had heard tales of Elmswood's beauty and tranquility and had decided to see it for himself. As he walked through the village, he marveled at the quaint cottages with their thatched roofs, the vibrant gardens bursting with flowers of every color, and the friendly faces that greeted him at every turn. Samuel soon found himself standing in front of the old oak tree, feeling a sense of calm wash over him. He decided to sit beneath its branches for a while, to rest and take in the beauty of his surroundings. As he sat there, he noticed a small, leather-bound book lying on the ground. Curiosity piqued, he picked it up and opened it, revealing pages filled with elegant, flowing script. The book seemed to be a diary of sorts, chronicling the life of a young girl named Emily, who had lived in the village many years ago.\n",
    "\n",
    "Samuel became engrossed in Emily's story, learning about her hopes, dreams, and the challenges she had faced. She wrote of her love for a boy named Thomas, who had been taken away to fight in a distant war, and of her longing for his return. As Samuel read on, he felt a deep connection to Emily's words, as if he were sharing in her joys and sorrows. The hours passed quickly, and before he knew it, the sun was beginning to set, casting long shadows across the village. Reluctantly, Samuel closed the book and stood up, determined to learn more about Emily and the village's history. Over the next few days, Samuel explored Elmswood, talking to the villagers and gathering stories about Emily and Thomas. He visited the local library, where he found old letters and photographs that provided further glimpses into their lives. Through these stories, he learned that Thomas had eventually returned from the war, and he and Emily had been reunited. They had lived long, happy lives together, raising a family and contributing to the village in many ways.\n",
    "\n",
    "Inspired by their love and resilience, Samuel decided to stay in Elmswood and make it his home. He bought a small cottage near the edge of the village and began to integrate himself into the community. He took up gardening, planting flowers and vegetables, and often helped Mr. Thornton in the bakery, learning the secrets of his delicious bread. Samuel also became close friends with Mrs. Patterson, who shared with him her vast knowledge of the village's history and traditions. As the years went by, Samuel found a sense of belonging he had never known before. He became an integral part of the village, participating in festivals and celebrations, and sharing stories of his own travels with the villagers. He often thought of Emily and Thomas, whose love story had brought him to Elmswood and changed his life forever. Under the shade of the old oak tree, Samuel would sit and reflect on how fortunate he was to have found such a special place, where he could finally find peace and happiness.\n",
    "\"\"\""
   ]
  },
  {
   "cell_type": "markdown",
   "metadata": {},
   "source": [
    "# ✂️🔠 Tokenization and Stopwords Removal\n",
    "\n",
    "In this step, we will:\n",
    "\n",
    "1. **Tokenize the Text** 📝🔍\n",
    "   - We will use the `word_tokenize` function from NLTK to split the text into individual words (tokens).\n",
    "\n",
    "2. **Remove Stopwords** 🚫🔤\n",
    "   - We will filter out common stopwords using the list of stopwords provided by NLTK.\n",
    "\n",
    "3. **Build Word Frequency Dictionary** 📊🔡\n",
    "   - We will create a dictionary to store the frequency of each word that is not a stopword or punctuation."
   ]
  },
  {
   "cell_type": "code",
   "execution_count": 87,
   "metadata": {},
   "outputs": [],
   "source": [
    "tokens = word_tokenize(text)\n",
    "stopwords = set(stopwords.words('english'))\n"
   ]
  },
  {
   "cell_type": "code",
   "execution_count": 88,
   "metadata": {},
   "outputs": [],
   "source": [
    "word_freq = {}\n",
    "for word in tokens:\n",
    "    if word.lower() not in stopwords and word not in string.punctuation:\n",
    "        if word not in word_freq:\n",
    "            word_freq[word] = 1\n",
    "        else:\n",
    "            word_freq[word] += 1"
   ]
  },
  {
   "cell_type": "markdown",
   "metadata": {},
   "source": [
    "# 📊🔡 Building Word Frequency Dictionary\n",
    "\n",
    "In this step, we will:\n",
    "\n",
    "1. **Calculate the Maximum Word Frequency** 📈🔍\n",
    "   - Find the maximum frequency of any word in the text to normalize the word frequencies.\n",
    "\n",
    "2. **Normalize Word Frequencies** ⚖️🔡\n",
    "   - Divide the frequency of each word by the maximum frequency to get normalized frequencies.\n",
    "\n",
    "3. **Tokenize Sentences** 📝🔠\n",
    "   - Split the text into sentences using the `sent_tokenize` function from NLTK.\n",
    "\n",
    "4. **Score Sentences** 🏅🔍\n",
    "   - Calculate a score for each sentence based on the normalized frequency of the words it contains.\n",
    "\n",
    "5. **Select Top Sentences for Summary** 📄✨\n",
    "   - Select the top 40% of sentences with the highest scores to create the summary.\n"
   ]
  },
  {
   "cell_type": "code",
   "execution_count": 89,
   "metadata": {},
   "outputs": [
    {
     "name": "stdout",
     "output_type": "stream",
     "text": [
      "14\n"
     ]
    }
   ],
   "source": [
    "max_freq = max(word_freq.values())\n",
    "print(max_freq)"
   ]
  },
  {
   "cell_type": "code",
   "execution_count": 90,
   "metadata": {},
   "outputs": [],
   "source": [
    "for word in word_freq.keys():\n",
    "    word_freq[word] = word_freq[word] / max_freq"
   ]
  },
  {
   "cell_type": "code",
   "execution_count": 91,
   "metadata": {},
   "outputs": [
    {
     "name": "stdout",
     "output_type": "stream",
     "text": [
      "['Once upon a time, in a land far, far away, there was a small, quaint village nestled between rolling hills and lush, green valleys.', 'This village, known to its inhabitants as Elmswood, was home to a curious assortment of characters.', 'Among them were a kindly old baker named Mr. Thornton, who had been baking bread for the villagers for as long as anyone could remember, and Mrs. Patterson, the schoolteacher, whose stern demeanor hid a heart of gold.', 'The village also had its fair share of children, who could often be seen playing games in the fields, their laughter echoing through the air like the sweetest of melodies.', 'In the center of Elmswood, there was a magnificent old oak tree, which the villagers believed to be enchanted.', 'It was said that the tree had stood there for centuries, silently watching over the village and its people.', 'Every spring, the tree would burst into a brilliant display of blossoms, filling the air with a sweet, heady fragrance that could be smelled for miles around.', 'Under the shade of this grand tree, villagers would gather for festivals, picnics, and, on occasion, to resolve disputes, which were often settled with the help of the village elder, Old Man Harper, whose wisdom was revered by all.', 'One fine day, as the sun rose over the horizon, casting a golden glow over the village, a traveler arrived.', 'This traveler, whose name was Samuel, had journeyed from a distant city, seeking peace and quiet.', \"He had heard tales of Elmswood's beauty and tranquility and had decided to see it for himself.\", 'As he walked through the village, he marveled at the quaint cottages with their thatched roofs, the vibrant gardens bursting with flowers of every color, and the friendly faces that greeted him at every turn.', 'Samuel soon found himself standing in front of the old oak tree, feeling a sense of calm wash over him.', 'He decided to sit beneath its branches for a while, to rest and take in the beauty of his surroundings.', 'As he sat there, he noticed a small, leather-bound book lying on the ground.', 'Curiosity piqued, he picked it up and opened it, revealing pages filled with elegant, flowing script.', 'The book seemed to be a diary of sorts, chronicling the life of a young girl named Emily, who had lived in the village many years ago.', \"Samuel became engrossed in Emily's story, learning about her hopes, dreams, and the challenges she had faced.\", 'She wrote of her love for a boy named Thomas, who had been taken away to fight in a distant war, and of her longing for his return.', \"As Samuel read on, he felt a deep connection to Emily's words, as if he were sharing in her joys and sorrows.\", 'The hours passed quickly, and before he knew it, the sun was beginning to set, casting long shadows across the village.', \"Reluctantly, Samuel closed the book and stood up, determined to learn more about Emily and the village's history.\", 'Over the next few days, Samuel explored Elmswood, talking to the villagers and gathering stories about Emily and Thomas.', 'He visited the local library, where he found old letters and photographs that provided further glimpses into their lives.', 'Through these stories, he learned that Thomas had eventually returned from the war, and he and Emily had been reunited.', 'They had lived long, happy lives together, raising a family and contributing to the village in many ways.', 'Inspired by their love and resilience, Samuel decided to stay in Elmswood and make it his home.', 'He bought a small cottage near the edge of the village and began to integrate himself into the community.', 'He took up gardening, planting flowers and vegetables, and often helped Mr. Thornton in the bakery, learning the secrets of his delicious bread.', \"Samuel also became close friends with Mrs. Patterson, who shared with him her vast knowledge of the village's history and traditions.\", 'As the years went by, Samuel found a sense of belonging he had never known before.', 'He became an integral part of the village, participating in festivals and celebrations, and sharing stories of his own travels with the villagers.', 'He often thought of Emily and Thomas, whose love story had brought him to Elmswood and changed his life forever.', 'Under the shade of the old oak tree, Samuel would sit and reflect on how fortunate he was to have found such a special place, where he could finally find peace and happiness.']\n"
     ]
    }
   ],
   "source": [
    "sent_tokens = sent_tokenize(text)\n",
    "print(sent_tokens)"
   ]
  },
  {
   "cell_type": "code",
   "execution_count": 92,
   "metadata": {},
   "outputs": [],
   "source": [
    "sent_scores = {}\n",
    "for sent in sent_tokens:\n",
    "    for word in word_tokenize(sent.lower()):\n",
    "        if word in word_freq:\n",
    "            if sent not in sent_scores:\n",
    "                sent_scores[sent] = word_freq[word]\n",
    "            else:\n",
    "                sent_scores[sent] += word_freq[word]"
   ]
  },
  {
   "cell_type": "code",
   "execution_count": 93,
   "metadata": {},
   "outputs": [],
   "source": [
    "select_len = int(len(sent_tokens) * 0.4)\n",
    "summary = nlargest(select_len, sent_scores, key=sent_scores.get)"
   ]
  },
  {
   "cell_type": "code",
   "execution_count": 94,
   "metadata": {},
   "outputs": [
    {
     "name": "stdout",
     "output_type": "stream",
     "text": [
      "Under the shade of this grand tree, villagers would gather for festivals, picnics, and, on occasion, to resolve disputes, which were often settled with the help of the village elder, Old Man Harper, whose wisdom was revered by all. The village also had its fair share of children, who could often be seen playing games in the fields, their laughter echoing through the air like the sweetest of melodies. Under the shade of the old oak tree, Samuel would sit and reflect on how fortunate he was to have found such a special place, where he could finally find peace and happiness. Among them were a kindly old baker named Mr. Thornton, who had been baking bread for the villagers for as long as anyone could remember, and Mrs. Patterson, the schoolteacher, whose stern demeanor hid a heart of gold. As he walked through the village, he marveled at the quaint cottages with their thatched roofs, the vibrant gardens bursting with flowers of every color, and the friendly faces that greeted him at every turn. The book seemed to be a diary of sorts, chronicling the life of a young girl named Emily, who had lived in the village many years ago. Once upon a time, in a land far, far away, there was a small, quaint village nestled between rolling hills and lush, green valleys. He became an integral part of the village, participating in festivals and celebrations, and sharing stories of his own travels with the villagers. Samuel also became close friends with Mrs. Patterson, who shared with him her vast knowledge of the village's history and traditions. Reluctantly, Samuel closed the book and stood up, determined to learn more about Emily and the village's history. Every spring, the tree would burst into a brilliant display of blossoms, filling the air with a sweet, heady fragrance that could be smelled for miles around. The hours passed quickly, and before he knew it, the sun was beginning to set, casting long shadows across the village. They had lived long, happy lives together, raising a family and contributing to the village in many ways.\n"
     ]
    }
   ],
   "source": [
    "summary = ' '.join(summary)\n",
    "\n",
    "print(summary)"
   ]
  },
  {
   "cell_type": "code",
   "execution_count": 95,
   "metadata": {},
   "outputs": [
    {
     "data": {
      "text/plain": [
       "2052"
      ]
     },
     "execution_count": 95,
     "metadata": {},
     "output_type": "execute_result"
    }
   ],
   "source": [
    "len(summary)"
   ]
  },
  {
   "cell_type": "markdown",
   "metadata": {},
   "source": [
    "# ✨📚 Summarize Text Function\n",
    "\n",
    "In this step, we will:\n",
    "\n",
    "1. **Define the Function** 🛠️📜\n",
    "   - Create a function `summarize_text` that takes the text and an optional summary ratio as inputs.\n",
    "\n",
    "2. **Tokenize the Text** 📝🔍\n",
    "   - Use the `word_tokenize` function from NLTK to split the text into individual words (tokens).\n",
    "\n",
    "3. **Remove Stopwords** 🚫🔤\n",
    "   - Filter out common stopwords using the list of stopwords provided by NLTK.\n",
    "\n",
    "4. **Build Word Frequency Dictionary** 📊🔡\n",
    "   - Create a dictionary to store the frequency of each word that is not a stopword or punctuation.\n",
    "\n",
    "5. **Normalize Word Frequencies** ⚖️🔡\n",
    "   - Divide the frequency of each word by the maximum frequency to get normalized frequencies.\n",
    "\n",
    "6. **Tokenize Sentences** 📝🔠\n",
    "   - Split the text into sentences using the `sent_tokenize` function from NLTK.\n",
    "\n",
    "7. **Score Sentences** 🏅🔍\n",
    "   - Calculate a score for each sentence based on the normalized frequency of the words it contains.\n",
    "\n",
    "8. **Select Top Sentences for Summary** 📄✨\n",
    "   - Select the top sentences with the highest scores to create the summary.\n",
    "\n",
    "9. **Return Summary and Lengths** 📋📏\n",
    "   - Return the summary along with the original and summary lengths."
   ]
  },
  {
   "cell_type": "code",
   "execution_count": 96,
   "metadata": {},
   "outputs": [],
   "source": [
    "from nltk.corpus import stopwords\n",
    "def summarize_text(text, summary_ratio=0.4):\n",
    "    tokens = word_tokenize(text)\n",
    "    stop_words = set(stopwords.words('english'))\n",
    "    \n",
    "    word_freq = {}\n",
    "    for word in tokens:\n",
    "        if word.lower() not in stop_words and word not in string.punctuation:\n",
    "            if word not in word_freq:\n",
    "                word_freq[word] = 1\n",
    "            else:\n",
    "                word_freq[word] += 1\n",
    "    \n",
    "    max_freq = max(word_freq.values())\n",
    "    \n",
    "    for word in word_freq.keys():\n",
    "        word_freq[word] = word_freq[word] / max_freq\n",
    "    \n",
    "    sent_tokens = sent_tokenize(text)\n",
    "    \n",
    "    sent_scores = {}\n",
    "    for sent in sent_tokens:\n",
    "        for word in word_tokenize(sent.lower()):\n",
    "            if word in word_freq:\n",
    "                if sent not in sent_scores:\n",
    "                    sent_scores[sent] = word_freq[word]\n",
    "                else:\n",
    "                    sent_scores[sent] += word_freq[word]\n",
    "    \n",
    "    select_len = int(len(sent_tokens) * summary_ratio)\n",
    "    summary_sentences = nlargest(select_len, sent_scores, key=sent_scores.get)\n",
    "    \n",
    "    summary = ' '.join(summary_sentences)\n",
    "    \n",
    "    original_length = len(text)\n",
    "    summary_length = len(summary)\n",
    "    \n",
    "    return summary, original_length, summary_length\n",
    "\n"
   ]
  },
  {
   "cell_type": "code",
   "execution_count": 97,
   "metadata": {},
   "outputs": [],
   "source": [
    "text=\"\"\"In the heart of a bustling city, there was a small, unassuming bookstore called \"Whispers of Time.\" Despite its modest exterior, the shop was a treasure trove of forgotten tales and hidden gems. The owner, Mr. Benson, was a gentle, elderly man who had a knack for finding the perfect book for every visitor.\n",
    "\n",
    "One rainy afternoon, a young woman named Lily stumbled into the store, seeking refuge from the storm. She was a writer struggling with a creative block, her once-flowing ideas now dried up. Mr. Benson greeted her with a warm smile and guided her to a dusty, leather-bound book tucked away on a high shelf.\n",
    "\n",
    "\"This book chooses its reader,\" he said mysteriously. Intrigued, Lily opened the book and found herself lost in the vivid world within its pages. The story of a courageous heroine on a quest to save her village resonated deeply with her.\n",
    "\n",
    "As she read, inspiration began to flow once more. Lily spent hours in the bookstore, devouring the tale and scribbling notes. By the time she left, the rain had stopped, and she felt a renewed sense of purpose.\n",
    "\n",
    "\"Whispers of Time\" had given her the spark she needed to write again, and she returned often, each visit igniting her creativity anew.\n",
    "\n",
    "\n",
    "\n",
    "\n",
    "\n",
    "\n",
    "\"\"\""
   ]
  },
  {
   "cell_type": "code",
   "execution_count": 98,
   "metadata": {},
   "outputs": [
    {
     "data": {
      "text/plain": [
       "('\"Whispers of Time\" had given her the spark she needed to write again, and she returned often, each visit igniting her creativity anew. In the heart of a bustling city, there was a small, unassuming bookstore called \"Whispers of Time.\" Mr. Benson greeted her with a warm smile and guided her to a dusty, leather-bound book tucked away on a high shelf. \"This book chooses its reader,\" he said mysteriously. The owner, Mr. Benson, was a gentle, elderly man who had a knack for finding the perfect book for every visitor.',\n",
       " 1208,\n",
       " 517)"
      ]
     },
     "execution_count": 98,
     "metadata": {},
     "output_type": "execute_result"
    }
   ],
   "source": [
    "summarize_text(text)"
   ]
  },
  {
   "cell_type": "markdown",
   "metadata": {},
   "source": [
    "### 📝✨ Conclusion\n",
    "\n",
    "In this project, we successfully implemented a text summarization algorithm using Natural Language Processing (NLP) techniques. We utilized several key libraries:\n",
    "\n",
    "1. **NLTK** 🌐📚\n",
    "   - For tokenizing text into words and sentences.\n",
    "   - For removing stopwords.\n",
    "\n",
    "2. **String** 🔤🔧\n",
    "   - For handling punctuation.\n",
    "\n",
    "3. **Heapq** 📊🔝\n",
    "   - For selecting the top sentences based on their scores.\n",
    "\n",
    "By following the steps of tokenization, stopwords removal, building a word frequency dictionary, normalizing word frequencies, scoring sentences, and selecting top sentences, we were able to generate a concise summary that captures the essence of the original text.\n",
    "\n",
    "This approach to text summarization is efficient and effective, providing a clear and readable summary for large documents. It can be further enhanced with additional NLP techniques and customized according to specific requirements.\n",
    "\n",
    "### 🌟🙏 Thank You!\n",
    "\n",
    "Thank you for following along with this project on text summarization! 🎉 We hope you found it informative and helpful. If you have any questions or feedback, feel free to reach out. Happy summarizing! 📚✨\n"
   ]
  }
 ],
 "metadata": {
  "kernelspec": {
   "display_name": "Python 3",
   "language": "python",
   "name": "python3"
  },
  "language_info": {
   "codemirror_mode": {
    "name": "ipython",
    "version": 3
   },
   "file_extension": ".py",
   "mimetype": "text/x-python",
   "name": "python",
   "nbconvert_exporter": "python",
   "pygments_lexer": "ipython3",
   "version": "3.11.4"
  }
 },
 "nbformat": 4,
 "nbformat_minor": 2
}
